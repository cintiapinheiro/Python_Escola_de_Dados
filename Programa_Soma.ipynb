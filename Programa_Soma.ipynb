{
  "nbformat": 4,
  "nbformat_minor": 0,
  "metadata": {
    "colab": {
      "provenance": [],
      "authorship_tag": "ABX9TyM5pYwpc2URxlQT4+aRmGlB",
      "include_colab_link": true
    },
    "kernelspec": {
      "name": "python3",
      "display_name": "Python 3"
    },
    "language_info": {
      "name": "python"
    }
  },
  "cells": [
    {
      "cell_type": "markdown",
      "metadata": {
        "id": "view-in-github",
        "colab_type": "text"
      },
      "source": [
        "<a href=\"https://colab.research.google.com/github/cintiapinheiro/Python_Escola_de_Dados/blob/main/Programa_Soma.ipynb\" target=\"_parent\"><img src=\"https://colab.research.google.com/assets/colab-badge.svg\" alt=\"Open In Colab\"/></a>"
      ]
    },
    {
      "cell_type": "code",
      "execution_count": 24,
      "metadata": {
        "colab": {
          "base_uri": "https://localhost:8080/"
        },
        "id": "_Q2jSMtvtkAv",
        "outputId": "fd9442dd-7d9c-4b75-a415-55ef7ed33f38"
      },
      "outputs": [
        {
          "output_type": "stream",
          "name": "stdout",
          "text": [
            "primeiro número:10\n",
            "segundo número:20\n",
            "terceiro número:30\n",
            "Entrada: 10, 20, 30\n",
            "Processamento: 10, 20, 30\n",
            "Saída: 60\n"
          ]
        }
      ],
      "source": [
        "num1 = int(input('primeiro número:'))\n",
        "num2 = int(input('segundo número:'))\n",
        "num3 = int(input('terceiro número:'))\n",
        "\n",
        "soma = num1 + num2 + num3\n",
        "\n",
        "print(f'Entrada: {num1}, {num2}, {num3}')\n",
        "print(f'Processamento: {num1}, {num2}, {num3}')\n",
        "print(f'Saída: {soma}')\n",
        "\n",
        "\n"
      ]
    }
  ]
}